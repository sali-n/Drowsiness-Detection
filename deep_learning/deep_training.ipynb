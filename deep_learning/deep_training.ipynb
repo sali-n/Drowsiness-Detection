{
 "cells": [
  {
   "cell_type": "code",
   "execution_count": 1,
   "id": "139d12e3",
   "metadata": {},
   "outputs": [],
   "source": [
    "import pandas as pd\n",
    "import os\n",
    "import tensorflow as tf\n",
    "import numpy as np"
   ]
  },
  {
   "cell_type": "code",
   "execution_count": 2,
   "id": "ef1223c4",
   "metadata": {},
   "outputs": [],
   "source": [
    "def read_data(folder):\n",
    "    \"\"\"Get X and Y from csv files.\"\"\"\n",
    "    X = []\n",
    "    Y = []\n",
    "    for filename in os.listdir(folder):\n",
    "        if filename.startswith('drowsy'):\n",
    "            ylabel = 1\n",
    "        else:\n",
    "            ylabel = 0\n",
    "        file_path = os.path.join(folder, filename)\n",
    "        df = pd.read_csv(file_path, header=None)  # assuming no header in CSV files\n",
    "        X.extend(df.values)\n",
    "        Y.extend([ylabel] * len(df))\n",
    "    return X, Y"
   ]
  },
  {
   "cell_type": "code",
   "execution_count": 3,
   "id": "bbcf58b4",
   "metadata": {},
   "outputs": [],
   "source": [
    "X = []\n",
    "Y = []\n",
    "for i in [1, 2, 3, 4]:\n",
    "    folder_path = f'Data2\\\\Fold{i}'\n",
    "    X_part, Y_part = read_data(folder_path)\n",
    "    X.extend(X_part)\n",
    "    Y.extend(Y_part)\n",
    "\n",
    "X = np.array(X)\n",
    "Y = np.array(Y)"
   ]
  },
  {
   "cell_type": "code",
   "execution_count": 4,
   "id": "3b324b33",
   "metadata": {},
   "outputs": [],
   "source": [
    "features_selected = [1, 3, 5, 7]  # Modify this according to your selected features\n",
    "X_selected = X[:, features_selected]"
   ]
  },
  {
   "cell_type": "code",
   "execution_count": 80,
   "id": "807561a2",
   "metadata": {},
   "outputs": [],
   "source": [
    "X_selected_tensor = tf.convert_to_tensor(X_selected, dtype=tf.float32)\n",
    "Y_tensor = tf.convert_to_tensor(Y, dtype=tf.int32)\n",
    "\n",
    "# Determine sizes for train, validation, and test sets\n",
    "train_size = int(0.75 * len(X_selected))\n",
    "val_size = int(0.02 * len(X_selected))\n",
    "test_size = len(X_selected) - train_size - val_size\n",
    "\n",
    "# Split data into train, validation, and test sets\n",
    "X_train, X_val, X_test = tf.split(X_selected_tensor, [train_size, val_size, test_size])\n",
    "Y_train, Y_val, Y_test = tf.split(Y_tensor, [train_size, val_size, test_size])"
   ]
  },
  {
   "cell_type": "code",
   "execution_count": 81,
   "id": "c9e27724",
   "metadata": {},
   "outputs": [],
   "source": [
    "X_train = tf.expand_dims(X_train, axis=-1)\n",
    "X_val = tf.expand_dims(X_val, axis=-1)\n",
    "X_test = tf.expand_dims(X_test, axis=-1)"
   ]
  },
  {
   "cell_type": "code",
   "execution_count": 46,
   "id": "a2c02a45",
   "metadata": {},
   "outputs": [],
   "source": [
    "# lstm stacked\n",
    "model = tf.keras.Sequential([\n",
    "    tf.keras.layers.LSTM(64, return_sequences=True, input_shape=(X_train.shape[1], X_train.shape[2])),\n",
    "    tf.keras.layers.Dropout(0.2),  # Add dropout layer with dropout rate of 0.2\n",
    "    tf.keras.layers.BatchNormalization(),  # Add batch normalization layer\n",
    "\n",
    "    tf.keras.layers.LSTM(64, return_sequences=True),\n",
    "    tf.keras.layers.Dropout(0.2),  # Add dropout layer with dropout rate of 0.2\n",
    "    tf.keras.layers.BatchNormalization(),  # Add batch normalization layer\n",
    "\n",
    "    tf.keras.layers.LSTM(64),\n",
    "    tf.keras.layers.Dropout(0.2),  # Add dropout layer with dropout rate of 0.2\n",
    "    tf.keras.layers.BatchNormalization(),  # Add batch normalization layer\n",
    "\n",
    "    tf.keras.layers.Dense(32, activation='relu'),\n",
    "    tf.keras.layers.Dropout(0.2),  # Add dropout layer with dropout rate of 0.2\n",
    "    tf.keras.layers.BatchNormalization(),  # Add batch normalization layer\n",
    "\n",
    "    tf.keras.layers.Dense(1, activation='sigmoid')\n",
    "])"
   ]
  },
  {
   "cell_type": "code",
   "execution_count": 66,
   "id": "66f5f179",
   "metadata": {},
   "outputs": [
    {
     "name": "stderr",
     "output_type": "stream",
     "text": [
      "D:\\anac\\lib\\site-packages\\keras\\src\\layers\\rnn\\rnn.py:204: UserWarning: Do not pass an `input_shape`/`input_dim` argument to a layer. When using Sequential models, prefer using an `Input(shape)` object as the first layer in the model instead.\n",
      "  super().__init__(**kwargs)\n"
     ]
    }
   ],
   "source": [
    "# lstm\n",
    "model = tf.keras.Sequential([\n",
    "    tf.keras.layers.LSTM(64, input_shape=(X_train.shape[1], X_train.shape[2])),\n",
    "    tf.keras.layers.Dropout(0.2),  # Add dropout layer with dropout rate of 0.2\n",
    "    tf.keras.layers.BatchNormalization(),  # Add batch normalization layer\n",
    "\n",
    "    tf.keras.layers.Dense(32, activation='relu'),\n",
    "    tf.keras.layers.Dropout(0.2),  # Add dropout layer with dropout rate of 0.2\n",
    "    tf.keras.layers.BatchNormalization(),  # Add batch normalization layer\n",
    "\n",
    "    tf.keras.layers.Dense(1, activation='sigmoid')\n",
    "])"
   ]
  },
  {
   "cell_type": "code",
   "execution_count": 34,
   "id": "c706bc53",
   "metadata": {},
   "outputs": [],
   "source": [
    "model = tf.keras.Sequential([\n",
    "    tf.keras.layers.SimpleRNN(64, unroll = True, return_sequences=True, input_shape=(X_train.shape[1], X_train.shape[2])),\n",
    "    tf.keras.layers.Dropout(0.2), \n",
    "    tf.keras.layers.BatchNormalization(),  # Add batch normalization layer\n",
    "\n",
    "    tf.keras.layers.SimpleRNN(64, unroll = True, return_sequences=True, input_shape=(X_train.shape[1], X_train.shape[2])),\n",
    "    tf.keras.layers.Dropout(0.2),  \n",
    "    tf.keras.layers.BatchNormalization(),  # Add batch normalization layer\n",
    "\n",
    "    tf.keras.layers.SimpleRNN(64, unroll = True, input_shape=(X_train.shape[1], X_train.shape[2])),\n",
    "    tf.keras.layers.Dropout(0.2),  \n",
    "    \n",
    "    tf.keras.layers.Dense(32, activation='relu'),\n",
    "    tf.keras.layers.Dropout(0.2),  \n",
    "    \n",
    "    tf.keras.layers.Dense(1, activation='sigmoid')\n",
    "])"
   ]
  },
  {
   "cell_type": "code",
   "execution_count": null,
   "id": "9e6d8e12",
   "metadata": {},
   "outputs": [],
   "source": [
    "model = tf.keras.Sequential([\n",
    "    tf.keras.layers.SimpleRNN(64, unroll = True, return_sequences=True, input_shape=(X_train.shape[1], X_train.shape[2])),\n",
    "    tf.keras.layers.Dropout(0.2), \n",
    "    tf.keras.layers.BatchNormalization(),  # Add batch normalization layer\n",
    "\n",
    "    tf.keras.layers.SimpleRNN(64, unroll = True, return_sequences=True, input_shape=(X_train.shape[1], X_train.shape[2])),\n",
    "    tf.keras.layers.Dropout(0.2),  \n",
    "    tf.keras.layers.BatchNormalization(),  # Add batch normalization layer\n",
    "\n",
    "    tf.keras.layers.SimpleRNN(64, unroll = True, input_shape=(X_train.shape[1], X_train.shape[2])),\n",
    "    tf.keras.layers.Dropout(0.2),  \n",
    "    \n",
    "    tf.keras.layers.Dense(32, activation='relu'),\n",
    "    tf.keras.layers.Dropout(0.2),  \n",
    "    \n",
    "    tf.keras.layers.Dense(1, activation='sigmoid')\n",
    "])"
   ]
  },
  {
   "cell_type": "code",
   "execution_count": 67,
   "id": "5387ebef",
   "metadata": {},
   "outputs": [],
   "source": [
    "model.compile(optimizer='adam', loss='binary_crossentropy', metrics=['accuracy'])"
   ]
  },
  {
   "cell_type": "code",
   "execution_count": 68,
   "id": "c623c02c",
   "metadata": {},
   "outputs": [
    {
     "name": "stdout",
     "output_type": "stream",
     "text": [
      "Epoch 1/2\n",
      "\u001b[1m40184/40184\u001b[0m \u001b[32m━━━━━━━━━━━━━━━━━━━━\u001b[0m\u001b[37m\u001b[0m \u001b[1m157s\u001b[0m 4ms/step - accuracy: 0.6571 - loss: 0.5923 - val_accuracy: 0.6840 - val_loss: 0.7287\n",
      "Epoch 2/2\n",
      "\u001b[1m40184/40184\u001b[0m \u001b[32m━━━━━━━━━━━━━━━━━━━━\u001b[0m\u001b[37m\u001b[0m \u001b[1m147s\u001b[0m 4ms/step - accuracy: 0.7996 - loss: 0.4096 - val_accuracy: 0.6921 - val_loss: 0.7014\n"
     ]
    }
   ],
   "source": [
    "# history = model.fit(X_train, Y_train, epochs=5, batch_size=32, validation_data=(X_val, Y_val))\n",
    "\n",
    "history = model.fit(X_train, Y_train, epochs = 2, batch_size = 100, validation_data = (X_val, Y_val), verbose = 1)"
   ]
  },
  {
   "cell_type": "code",
   "execution_count": 79,
   "id": "ae0200bd",
   "metadata": {},
   "outputs": [
    {
     "name": "stdout",
     "output_type": "stream",
     "text": [
      "\u001b[1m10046/10046\u001b[0m \u001b[32m━━━━━━━━━━━━━━━━━━━━\u001b[0m\u001b[37m\u001b[0m \u001b[1m21s\u001b[0m 2ms/step - accuracy: 0.7468 - loss: 0.5986\n",
      "Test Loss: 0.9440352916717529\n",
      "Test Accuracy: 0.617664098739624\n",
      "\u001b[1m10046/10046\u001b[0m \u001b[32m━━━━━━━━━━━━━━━━━━━━\u001b[0m\u001b[37m\u001b[0m \u001b[1m18s\u001b[0m 2ms/step\n",
      "              precision    recall  f1-score   support\n",
      "\n",
      "           0       0.76      0.55      0.64    198203\n",
      "           1       0.50      0.73      0.59    123263\n",
      "\n",
      "    accuracy                           0.62    321466\n",
      "   macro avg       0.63      0.64      0.62    321466\n",
      "weighted avg       0.66      0.62      0.62    321466\n",
      "\n"
     ]
    }
   ],
   "source": [
    "from sklearn.metrics import classification_report\n",
    "\n",
    "loss, accuracy = model.evaluate(X_test, Y_test)\n",
    "print(\"Test Loss:\", loss)\n",
    "print(\"Test Accuracy:\", accuracy)\n",
    "\n",
    "# Make predictions on test data\n",
    "y_pred = model.predict(X_test)\n",
    "y_pred_binary = (y_pred > 0.5).astype(int)  # Convert probabilities to binary predictions\n",
    "\n",
    "# Calculate accuracy\n",
    "accuracy = classification_report(Y_test, y_pred_binary)\n",
    "print(accuracy)"
   ]
  },
  {
   "cell_type": "code",
   "execution_count": 39,
   "id": "3a3e1ab9",
   "metadata": {},
   "outputs": [
    {
     "name": "stdout",
     "output_type": "stream",
     "text": [
      "95% Confidence Interval for Accuracy: (0, 1)\n"
     ]
    },
    {
     "name": "stderr",
     "output_type": "stream",
     "text": [
      "C:\\Users\\Ali Syed\\AppData\\Local\\Temp\\ipykernel_20200\\1505013339.py:4: RuntimeWarning: invalid value encountered in sqrt\n",
      "  std_dev = np.sqrt(p_hat * (1 - p_hat) / total_samples)\n"
     ]
    }
   ],
   "source": [
    "# Calculate confidence interval for accuracy\n",
    "def calculate_accuracy_ci(correct_predictions, total_samples):\n",
    "    p_hat = correct_predictions / total_samples\n",
    "    std_dev = np.sqrt(p_hat * (1 - p_hat) / total_samples)\n",
    "    margin_of_error = 1.96 * std_dev  # 1.96 is the z-score for 95% confidence interval\n",
    "    ci_lower = max(0, p_hat - margin_of_error)\n",
    "    ci_upper = min(1, p_hat + margin_of_error)\n",
    "    return ci_lower, ci_upper\n",
    "\n",
    "accuracy_ci_lower, accuracy_ci_upper = calculate_accuracy_ci(np.sum(y_pred_binary == Y_test), len(Y_test))\n",
    "print(\"95% Confidence Interval for Accuracy:\", (accuracy_ci_lower, accuracy_ci_upper))"
   ]
  },
  {
   "cell_type": "code",
   "execution_count": 40,
   "id": "a1eaeaba",
   "metadata": {},
   "outputs": [],
   "source": [
    "model.save(\"rnn_stacked.keras\")"
   ]
  },
  {
   "cell_type": "code",
   "execution_count": null,
   "id": "49641035",
   "metadata": {},
   "outputs": [],
   "source": []
  }
 ],
 "metadata": {
  "kernelspec": {
   "display_name": "Python 3 (ipykernel)",
   "language": "python",
   "name": "python3"
  },
  "language_info": {
   "codemirror_mode": {
    "name": "ipython",
    "version": 3
   },
   "file_extension": ".py",
   "mimetype": "text/x-python",
   "name": "python",
   "nbconvert_exporter": "python",
   "pygments_lexer": "ipython3",
   "version": "3.10.9"
  }
 },
 "nbformat": 4,
 "nbformat_minor": 5
}
